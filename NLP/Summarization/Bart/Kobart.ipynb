{
 "cells": [
  {
   "cell_type": "code",
   "execution_count": 2,
   "metadata": {},
   "outputs": [
    {
     "name": "stdout",
     "output_type": "stream",
     "text": [
      "Collecting kobart\n",
      "  Cloning https://github.com/SKT-AI/KoBART to c:\\users\\dohyung\\appdata\\local\\temp\\pip-install-7wkh1a3c\\kobart_2d293ed1b33347be830a840cc6c10528\n",
      "Requirement already satisfied: boto3 in c:\\users\\dohyung\\anaconda3\\lib\\site-packages (from kobart) (1.35.17)\n",
      "Requirement already satisfied: pandas in c:\\users\\dohyung\\anaconda3\\lib\\site-packages (from kobart) (1.4.2)\n",
      "Requirement already satisfied: pytorch-lightning==1.2.1 in c:\\users\\dohyung\\anaconda3\\lib\\site-packages (from kobart) (1.2.1)\n",
      "Requirement already satisfied: torch==1.7.1 in c:\\users\\dohyung\\anaconda3\\lib\\site-packages (from kobart) (1.7.1)\n",
      "Collecting transformers==4.3.3\n",
      "  Using cached transformers-4.3.3-py3-none-any.whl (1.9 MB)\n",
      "Requirement already satisfied: PyYAML!=5.4.*,>=5.1 in c:\\users\\dohyung\\anaconda3\\lib\\site-packages (from pytorch-lightning==1.2.1->kobart) (6.0.2)\n",
      "Requirement already satisfied: numpy>=1.16.6 in c:\\users\\dohyung\\anaconda3\\lib\\site-packages (from pytorch-lightning==1.2.1->kobart) (1.23.5)\n",
      "Requirement already satisfied: fsspec[http]>=0.8.1 in c:\\users\\dohyung\\anaconda3\\lib\\site-packages (from pytorch-lightning==1.2.1->kobart) (2024.5.0)\n",
      "Requirement already satisfied: future>=0.17.1 in c:\\users\\dohyung\\anaconda3\\lib\\site-packages (from pytorch-lightning==1.2.1->kobart) (0.18.2)\n",
      "Requirement already satisfied: tensorboard>=2.2.0 in c:\\users\\dohyung\\appdata\\roaming\\python\\python38\\site-packages (from pytorch-lightning==1.2.1->kobart) (2.12.3)\n",
      "Requirement already satisfied: tqdm>=4.41.0 in c:\\users\\dohyung\\anaconda3\\lib\\site-packages (from pytorch-lightning==1.2.1->kobart) (4.66.5)\n",
      "Requirement already satisfied: typing-extensions in c:\\users\\dohyung\\anaconda3\\lib\\site-packages (from torch==1.7.1->kobart) (3.7.4.3)\n",
      "Collecting tokenizers<0.11,>=0.10.1\n",
      "  Using cached tokenizers-0.10.3-cp38-cp38-win_amd64.whl (2.0 MB)\n",
      "Requirement already satisfied: filelock in c:\\users\\dohyung\\anaconda3\\lib\\site-packages (from transformers==4.3.3->kobart) (3.0.12)\n",
      "Requirement already satisfied: sacremoses in c:\\users\\dohyung\\anaconda3\\lib\\site-packages (from transformers==4.3.3->kobart) (0.1.1)\n",
      "Requirement already satisfied: regex!=2019.12.17 in c:\\users\\dohyung\\anaconda3\\lib\\site-packages (from transformers==4.3.3->kobart) (2021.4.4)\n",
      "Requirement already satisfied: requests in c:\\users\\dohyung\\anaconda3\\lib\\site-packages (from transformers==4.3.3->kobart) (2.32.3)\n",
      "Requirement already satisfied: packaging in c:\\users\\dohyung\\anaconda3\\lib\\site-packages (from transformers==4.3.3->kobart) (21.3)\n",
      "Requirement already satisfied: aiohttp!=4.0.0a0,!=4.0.0a1 in c:\\users\\dohyung\\anaconda3\\lib\\site-packages (from fsspec[http]>=0.8.1->pytorch-lightning==1.2.1->kobart) (3.8.3)\n",
      "Requirement already satisfied: multidict<7.0,>=4.5 in c:\\users\\dohyung\\anaconda3\\lib\\site-packages (from aiohttp!=4.0.0a0,!=4.0.0a1->fsspec[http]>=0.8.1->pytorch-lightning==1.2.1->kobart) (6.0.2)\n",
      "Requirement already satisfied: yarl<2.0,>=1.0 in c:\\users\\dohyung\\anaconda3\\lib\\site-packages (from aiohttp!=4.0.0a0,!=4.0.0a1->fsspec[http]>=0.8.1->pytorch-lightning==1.2.1->kobart) (1.8.1)\n",
      "Requirement already satisfied: aiosignal>=1.1.2 in c:\\users\\dohyung\\anaconda3\\lib\\site-packages (from aiohttp!=4.0.0a0,!=4.0.0a1->fsspec[http]>=0.8.1->pytorch-lightning==1.2.1->kobart) (1.3.1)\n",
      "Requirement already satisfied: frozenlist>=1.1.1 in c:\\users\\dohyung\\anaconda3\\lib\\site-packages (from aiohttp!=4.0.0a0,!=4.0.0a1->fsspec[http]>=0.8.1->pytorch-lightning==1.2.1->kobart) (1.3.3)\n",
      "Requirement already satisfied: charset-normalizer<3.0,>=2.0 in c:\\users\\dohyung\\anaconda3\\lib\\site-packages (from aiohttp!=4.0.0a0,!=4.0.0a1->fsspec[http]>=0.8.1->pytorch-lightning==1.2.1->kobart) (2.0.12)\n",
      "Requirement already satisfied: async-timeout<5.0,>=4.0.0a3 in c:\\users\\dohyung\\anaconda3\\lib\\site-packages (from aiohttp!=4.0.0a0,!=4.0.0a1->fsspec[http]>=0.8.1->pytorch-lightning==1.2.1->kobart) (4.0.2)\n",
      "Requirement already satisfied: attrs>=17.3.0 in c:\\users\\dohyung\\anaconda3\\lib\\site-packages (from aiohttp!=4.0.0a0,!=4.0.0a1->fsspec[http]>=0.8.1->pytorch-lightning==1.2.1->kobart) (20.3.0)\n",
      "Requirement already satisfied: markdown>=2.6.8 in c:\\users\\dohyung\\appdata\\roaming\\python\\python38\\site-packages (from tensorboard>=2.2.0->pytorch-lightning==1.2.1->kobart) (3.4.3)\n",
      "Requirement already satisfied: wheel>=0.26 in c:\\users\\dohyung\\anaconda3\\lib\\site-packages (from tensorboard>=2.2.0->pytorch-lightning==1.2.1->kobart) (0.36.2)\n",
      "Requirement already satisfied: google-auth<3,>=1.6.3 in c:\\users\\dohyung\\appdata\\roaming\\python\\python38\\site-packages (from tensorboard>=2.2.0->pytorch-lightning==1.2.1->kobart) (2.17.3)\n",
      "Requirement already satisfied: grpcio>=1.48.2 in c:\\users\\dohyung\\appdata\\roaming\\python\\python38\\site-packages (from tensorboard>=2.2.0->pytorch-lightning==1.2.1->kobart) (1.54.0)\n",
      "Requirement already satisfied: absl-py>=0.4 in c:\\users\\dohyung\\appdata\\roaming\\python\\python38\\site-packages (from tensorboard>=2.2.0->pytorch-lightning==1.2.1->kobart) (1.4.0)\n",
      "Requirement already satisfied: protobuf>=3.19.6 in c:\\users\\dohyung\\appdata\\roaming\\python\\python38\\site-packages (from tensorboard>=2.2.0->pytorch-lightning==1.2.1->kobart) (4.22.3)\n",
      "Requirement already satisfied: werkzeug>=1.0.1 in c:\\users\\dohyung\\anaconda3\\lib\\site-packages (from tensorboard>=2.2.0->pytorch-lightning==1.2.1->kobart) (1.0.1)\n",
      "Requirement already satisfied: tensorboard-data-server<0.8.0,>=0.7.0 in c:\\users\\dohyung\\appdata\\roaming\\python\\python38\\site-packages (from tensorboard>=2.2.0->pytorch-lightning==1.2.1->kobart) (0.7.0)\n",
      "Requirement already satisfied: setuptools>=41.0.0 in c:\\users\\dohyung\\anaconda3\\lib\\site-packages (from tensorboard>=2.2.0->pytorch-lightning==1.2.1->kobart) (52.0.0.post20210125)\n",
      "Requirement already satisfied: google-auth-oauthlib<1.1,>=0.5 in c:\\users\\dohyung\\appdata\\roaming\\python\\python38\\site-packages (from tensorboard>=2.2.0->pytorch-lightning==1.2.1->kobart) (1.0.0)\n",
      "Requirement already satisfied: six>=1.9.0 in c:\\users\\dohyung\\anaconda3\\lib\\site-packages (from google-auth<3,>=1.6.3->tensorboard>=2.2.0->pytorch-lightning==1.2.1->kobart) (1.15.0)\n",
      "Requirement already satisfied: cachetools<6.0,>=2.0.0 in c:\\users\\dohyung\\anaconda3\\lib\\site-packages (from google-auth<3,>=1.6.3->tensorboard>=2.2.0->pytorch-lightning==1.2.1->kobart) (5.3.0)\n",
      "Requirement already satisfied: rsa<5,>=3.1.4 in c:\\users\\dohyung\\anaconda3\\lib\\site-packages (from google-auth<3,>=1.6.3->tensorboard>=2.2.0->pytorch-lightning==1.2.1->kobart) (4.9)\n",
      "Requirement already satisfied: pyasn1-modules>=0.2.1 in c:\\users\\dohyung\\anaconda3\\lib\\site-packages (from google-auth<3,>=1.6.3->tensorboard>=2.2.0->pytorch-lightning==1.2.1->kobart) (0.3.0)\n",
      "Requirement already satisfied: requests-oauthlib>=0.7.0 in c:\\users\\dohyung\\anaconda3\\lib\\site-packages (from google-auth-oauthlib<1.1,>=0.5->tensorboard>=2.2.0->pytorch-lightning==1.2.1->kobart) (1.3.0)\n",
      "Requirement already satisfied: importlib-metadata>=4.4 in c:\\users\\dohyung\\appdata\\roaming\\python\\python38\\site-packages (from markdown>=2.6.8->tensorboard>=2.2.0->pytorch-lightning==1.2.1->kobart) (6.6.0)\n",
      "Requirement already satisfied: zipp>=0.5 in c:\\users\\dohyung\\anaconda3\\lib\\site-packages (from importlib-metadata>=4.4->markdown>=2.6.8->tensorboard>=2.2.0->pytorch-lightning==1.2.1->kobart) (3.4.1)\n",
      "Requirement already satisfied: pyasn1<0.6.0,>=0.4.6 in c:\\users\\dohyung\\anaconda3\\lib\\site-packages (from pyasn1-modules>=0.2.1->google-auth<3,>=1.6.3->tensorboard>=2.2.0->pytorch-lightning==1.2.1->kobart) (0.5.0)\n",
      "Requirement already satisfied: idna<4,>=2.5 in c:\\users\\dohyung\\anaconda3\\lib\\site-packages (from requests->transformers==4.3.3->kobart) (2.10)\n",
      "Requirement already satisfied: urllib3<3,>=1.21.1 in c:\\users\\dohyung\\anaconda3\\lib\\site-packages (from requests->transformers==4.3.3->kobart) (1.26.4)\n",
      "Requirement already satisfied: certifi>=2017.4.17 in c:\\users\\dohyung\\anaconda3\\lib\\site-packages (from requests->transformers==4.3.3->kobart) (2023.5.7)\n",
      "Requirement already satisfied: oauthlib>=3.0.0 in c:\\users\\dohyung\\anaconda3\\lib\\site-packages (from requests-oauthlib>=0.7.0->google-auth-oauthlib<1.1,>=0.5->tensorboard>=2.2.0->pytorch-lightning==1.2.1->kobart) (3.1.1)\n",
      "Requirement already satisfied: colorama in c:\\users\\dohyung\\anaconda3\\lib\\site-packages (from tqdm>=4.41.0->pytorch-lightning==1.2.1->kobart) (0.4.4)\n",
      "Requirement already satisfied: jmespath<2.0.0,>=0.7.1 in c:\\users\\dohyung\\anaconda3\\lib\\site-packages (from boto3->kobart) (1.0.1)\n",
      "Requirement already satisfied: s3transfer<0.11.0,>=0.10.0 in c:\\users\\dohyung\\anaconda3\\lib\\site-packages (from boto3->kobart) (0.10.2)\n",
      "Requirement already satisfied: botocore<1.36.0,>=1.35.17 in c:\\users\\dohyung\\anaconda3\\lib\\site-packages (from boto3->kobart) (1.35.17)\n",
      "Requirement already satisfied: python-dateutil<3.0.0,>=2.1 in c:\\users\\dohyung\\anaconda3\\lib\\site-packages (from botocore<1.36.0,>=1.35.17->boto3->kobart) (2.8.1)\n",
      "Requirement already satisfied: pyparsing!=3.0.5,>=2.0.2 in c:\\users\\dohyung\\anaconda3\\lib\\site-packages (from packaging->transformers==4.3.3->kobart) (2.4.7)\n",
      "Requirement already satisfied: pytz>=2020.1 in c:\\users\\dohyung\\anaconda3\\lib\\site-packages (from pandas->kobart) (2021.1)\n",
      "Requirement already satisfied: joblib in c:\\users\\dohyung\\anaconda3\\lib\\site-packages (from sacremoses->transformers==4.3.3->kobart) (1.0.1)\n",
      "Requirement already satisfied: click in c:\\users\\dohyung\\anaconda3\\lib\\site-packages (from sacremoses->transformers==4.3.3->kobart) (7.1.2)\n",
      "Installing collected packages: tokenizers, transformers\n",
      "  Attempting uninstall: tokenizers\n",
      "    Found existing installation: tokenizers 0.19.1\n",
      "    Uninstalling tokenizers-0.19.1:\n",
      "      Successfully uninstalled tokenizers-0.19.1\n",
      "  Attempting uninstall: transformers\n",
      "    Found existing installation: transformers 4.45.0.dev0\n",
      "    Uninstalling transformers-4.45.0.dev0:\n",
      "      Successfully uninstalled transformers-4.45.0.dev0\n",
      "Successfully installed tokenizers-0.10.3 transformers-4.3.3\n"
     ]
    },
    {
     "name": "stderr",
     "output_type": "stream",
     "text": [
      "  Running command git clone -q https://github.com/SKT-AI/KoBART 'C:\\Users\\Dohyung\\AppData\\Local\\Temp\\pip-install-7wkh1a3c\\kobart_2d293ed1b33347be830a840cc6c10528'\n"
     ]
    }
   ],
   "source": [
    "!pip install git+https://github.com/SKT-AI/KoBART#egg=kobart"
   ]
  },
  {
   "cell_type": "code",
   "execution_count": 7,
   "metadata": {},
   "outputs": [
    {
     "ename": "SyntaxError",
     "evalue": "invalid syntax (<ipython-input-7-79adee1a7673>, line 1)",
     "output_type": "error",
     "traceback": [
      "\u001b[1;36m  File \u001b[1;32m\"<ipython-input-7-79adee1a7673>\"\u001b[1;36m, line \u001b[1;32m1\u001b[0m\n\u001b[1;33m    git clone https://github.com/huggingface/transformers.git\u001b[0m\n\u001b[1;37m        ^\u001b[0m\n\u001b[1;31mSyntaxError\u001b[0m\u001b[1;31m:\u001b[0m invalid syntax\n"
     ]
    }
   ],
   "source": [
    "git clone https://github.com/huggingface/transformers.git \n",
    "cd transformers\n",
    "pip install -e ."
   ]
  },
  {
   "cell_type": "code",
   "execution_count": 3,
   "metadata": {},
   "outputs": [
    {
     "name": "stdout",
     "output_type": "stream",
     "text": [
      "c:\\Users\\Dohyung\\Desktop\\ssafy\\Github\\TIL-DataScience\\NLP\\Summarization\\Bart\\.cache\\kobart_base_tokenizer_cased_cf74400bce.zip[██████████████████████████████████████████████████]\n"
     ]
    },
    {
     "data": {
      "text/plain": [
       "['▁하이', '▁헬', '로', '우', '▁안녕']"
      ]
     },
     "execution_count": 3,
     "metadata": {},
     "output_type": "execute_result"
    }
   ],
   "source": [
    "from kobart import get_kobart_tokenizer\n",
    "\n",
    "kobart_tokenizer = get_kobart_tokenizer()\n",
    "kobart_tokenizer.tokenize(\"하이 헬로우 안녕\")"
   ]
  },
  {
   "cell_type": "code",
   "execution_count": 5,
   "metadata": {},
   "outputs": [
    {
     "data": {
      "text/plain": [
       "'싸피에 있는 A704팀의 팀장의 이름은 송창용인데, 이는 재밌게도, 싸피에 있는 A704팀의 팀장의 이름과 같다.'"
      ]
     },
     "execution_count": 5,
     "metadata": {},
     "output_type": "execute_result"
    }
   ],
   "source": [
    "import torch\n",
    "from transformers import PreTrainedTokenizerFast\n",
    "from transformers import BartForConditionalGeneration\n",
    "\n",
    "tokenizer = PreTrainedTokenizerFast.from_pretrained('digit82/kobart-summarization')\n",
    "model = BartForConditionalGeneration.from_pretrained('digit82/kobart-summarization')\n",
    "\n",
    "text = \"\"\"\n",
    "유럽에만 사는 고양이 품종이 있는데, 그 고양이의 생김새는 마치 우리나라의 코리안 숏헤어와 비슷하다. \n",
    "그 중 가장 많이 붙이는 이름은 송창용인데, 이는 재밌게도, 싸피에 있는 A704팀의 팀장의 이름과 같다.\n",
    "\"\"\"\n",
    "\n",
    "text = text.replace('\\n', ' ')\n",
    "\n",
    "raw_input_ids = tokenizer.encode(text)\n",
    "input_ids = [tokenizer.bos_token_id] + raw_input_ids + [tokenizer.eos_token_id]\n",
    "\n",
    "summary_ids = model.generate(torch.tensor([input_ids]),  num_beams=4,  max_length=512,  eos_token_id=1)\n",
    "tokenizer.decode(summary_ids.squeeze().tolist(), skip_special_tokens=True)"
   ]
  },
  {
   "cell_type": "markdown",
   "metadata": {},
   "source": [
    "### 문장의 배열이 반복되는 오류가 있는 듯하다."
   ]
  }
 ],
 "metadata": {
  "kernelspec": {
   "display_name": "base",
   "language": "python",
   "name": "python3"
  },
  "language_info": {
   "codemirror_mode": {
    "name": "ipython",
    "version": 3
   },
   "file_extension": ".py",
   "mimetype": "text/x-python",
   "name": "python",
   "nbconvert_exporter": "python",
   "pygments_lexer": "ipython3",
   "version": "3.8.8"
  }
 },
 "nbformat": 4,
 "nbformat_minor": 2
}
